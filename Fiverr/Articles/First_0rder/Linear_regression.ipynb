{
 "cells": [
  {
   "cell_type": "code",
   "execution_count": 2,
   "id": "7cf52ecf",
   "metadata": {},
   "outputs": [
    {
     "data": {
      "text/html": [
       "<div>\n",
       "<style scoped>\n",
       "    .dataframe tbody tr th:only-of-type {\n",
       "        vertical-align: middle;\n",
       "    }\n",
       "\n",
       "    .dataframe tbody tr th {\n",
       "        vertical-align: top;\n",
       "    }\n",
       "\n",
       "    .dataframe thead th {\n",
       "        text-align: right;\n",
       "    }\n",
       "</style>\n",
       "<table border=\"1\" class=\"dataframe\">\n",
       "  <thead>\n",
       "    <tr style=\"text-align: right;\">\n",
       "      <th></th>\n",
       "      <th>Hours</th>\n",
       "      <th>Score</th>\n",
       "    </tr>\n",
       "  </thead>\n",
       "  <tbody>\n",
       "    <tr>\n",
       "      <th>0</th>\n",
       "      <td>1.0</td>\n",
       "      <td>76</td>\n",
       "    </tr>\n",
       "    <tr>\n",
       "      <th>1</th>\n",
       "      <td>2.0</td>\n",
       "      <td>63</td>\n",
       "    </tr>\n",
       "    <tr>\n",
       "      <th>2</th>\n",
       "      <td>2.0</td>\n",
       "      <td>61</td>\n",
       "    </tr>\n",
       "    <tr>\n",
       "      <th>3</th>\n",
       "      <td>4.0</td>\n",
       "      <td>88</td>\n",
       "    </tr>\n",
       "    <tr>\n",
       "      <th>4</th>\n",
       "      <td>2.0</td>\n",
       "      <td>72</td>\n",
       "    </tr>\n",
       "  </tbody>\n",
       "</table>\n",
       "</div>"
      ],
      "text/plain": [
       "   Hours  Score\n",
       "0    1.0     76\n",
       "1    2.0     63\n",
       "2    2.0     61\n",
       "3    4.0     88\n",
       "4    2.0     72"
      ]
     },
     "execution_count": 2,
     "metadata": {},
     "output_type": "execute_result"
    }
   ],
   "source": [
    "# importing pandas module\n",
    "import pandas as pd\n",
    "\n",
    "# importing dataset\n",
    "data = pd.read_csv('data.csv')\n",
    "\n",
    "# heading\n",
    "data.head()"
   ]
  },
  {
   "cell_type": "code",
   "execution_count": 4,
   "id": "fcdce91e",
   "metadata": {},
   "outputs": [
    {
     "data": {
      "image/png": "[encoded data removed]",
      "text/plain": [
       "<Figure size 432x288 with 1 Axes>"
      ]
     },
     "metadata": {
      "needs_background": "light"
     },
     "output_type": "display_data"
    }
   ],
   "source": [
    "# importing the module\n",
    "import matplotlib.pyplot as plt\n",
    "\n",
    "#get a copy of dataset exclude last column\n",
    "Input = data.iloc[:, :-1].values \n",
    "\n",
    "#get array of dataset in column 2st\n",
    "output = data.iloc[:, 1].values \n",
    "\n",
    "# applying scttered graph\n",
    "plt.scatter(Input, output, color='blue')\n",
    "plt.title('Hours vs Score')\n",
    "\n",
    "# X label and Y label\n",
    "plt.xlabel('Hours')\n",
    "plt.ylabel('Score')\n",
    "\n",
    "# showing the graph\n",
    "plt.show()"
   ]
  },
  {
   "cell_type": "code",
   "execution_count": 6,
   "id": "3c7bc775",
   "metadata": {},
   "outputs": [],
   "source": [
    "# importing dataset\n",
    "from sklearn.model_selection import train_test_split\n",
    "\n",
    "# 70% dataset assigned to training part\n",
    "X_train, X_test, y_train, y_test = train_test_split(Input, output, train_size=.7)"
   ]
  },
  {
   "cell_type": "code",
   "execution_count": 7,
   "id": "14e7841e",
   "metadata": {},
   "outputs": [],
   "source": [
    "# Importing linear regression form sklear\n",
    "from sklearn.linear_model import LinearRegression\n",
    "\n",
    "# initializing the algorithm\n",
    "regressor = LinearRegression()"
   ]
  },
  {
   "cell_type": "code",
   "execution_count": 8,
   "id": "5e774e1d",
   "metadata": {},
   "outputs": [
    {
     "data": {
      "text/plain": [
       "LinearRegression()"
      ]
     },
     "execution_count": 8,
     "metadata": {},
     "output_type": "execute_result"
    }
   ],
   "source": [
    "# Fitting Simple Linear Regression to the Training set\n",
    "regressor.fit(X_train, y_train)"
   ]
  },
  {
   "cell_type": "code",
   "execution_count": 9,
   "id": "4f36954a",
   "metadata": {},
   "outputs": [
    {
     "data": {
      "image/png": "[encoded data removed]",
      "text/plain": [
       "<Figure size 432x288 with 1 Axes>"
      ]
     },
     "metadata": {
      "needs_background": "light"
     },
     "output_type": "display_data"
    }
   ],
   "source": [
    "# ploting the training dataset in scattered graph\n",
    "plt.scatter(X_train, y_train, color='red')\n",
    "\n",
    "# ploting the testing dataset in line line\n",
    "plt.plot(X_train, regressor.predict(X_train), color='blue')\n",
    "plt.title('Hours vs Score')\n",
    "\n",
    "# labeling the input and outputs\n",
    "plt.xlabel('Hours')\n",
    "plt.ylabel('Score')\n",
    "\n",
    "# showing the graph\n",
    "plt.show()"
   ]
  },
  {
   "cell_type": "code",
   "execution_count": 10,
   "id": "850e060d",
   "metadata": {},
   "outputs": [],
   "source": [
    "# Predicting the Test set results\n",
    "y_pred = regressor.predict(X_test)"
   ]
  },
  {
   "cell_type": "code",
   "execution_count": 13,
   "id": "e9aff168",
   "metadata": {},
   "outputs": [
    {
     "name": "stdout",
     "output_type": "stream",
     "text": [
      "predicted values  [77.41280329 83.84234185 92.84369584 90.27188042 64.55372617 92.84369584\n",
      " 95.41551127 83.84234185 88.34301885 70.98326473 83.84234185 68.41144931\n",
      " 80.62757257 83.84234185 86.41415728 83.199388  ]\n",
      "\n",
      "Acutal values values  [75 80 96 94 55 90 89 80 86 63 85 50 82 88 83 74]\n"
     ]
    }
   ],
   "source": [
    "print(\"predicted values \",y_pred)\n",
    "print(\"\\nAcutal values values \",y_test)"
   ]
  },
  {
   "cell_type": "code",
   "execution_count": 15,
   "id": "0ac6a4ff",
   "metadata": {},
   "outputs": [
    {
     "data": {
      "image/png": "[encoded data removed]",
      "text/plain": [
       "<Figure size 432x288 with 1 Axes>"
      ]
     },
     "metadata": {
      "needs_background": "light"
     },
     "output_type": "display_data"
    }
   ],
   "source": [
    "# ploting the training dataset in scattered graph\n",
    "plt.scatter(X_test, y_test, color='red')\n",
    "\n",
    "# ploting the testing dataset in line line\n",
    "plt.plot(X_train, regressor.predict(X_train), color='blue')\n",
    "plt.title('Hours vs Score')\n",
    "\n",
    "# labeling the input and outputs\n",
    "plt.xlabel('Hours')\n",
    "plt.ylabel('Score')\n",
    "\n",
    "# showing the graph\n",
    "plt.show()"
   ]
  },
  {
   "cell_type": "code",
   "execution_count": 16,
   "id": "f21a4961",
   "metadata": {},
   "outputs": [
    {
     "name": "stdout",
     "output_type": "stream",
     "text": [
      "5.239616618825823\n"
     ]
    }
   ],
   "source": [
    "# Importing sklearn module\n",
    "from sklearn.metrics import mean_absolute_error\n",
    "\n",
    "# printing the mean absolute error\n",
    "print(mean_absolute_error(y_test, y_pred))"
   ]
  },
  {
   "cell_type": "code",
   "execution_count": 17,
   "id": "5d1f361a",
   "metadata": {},
   "outputs": [
    {
     "name": "stdout",
     "output_type": "stream",
     "text": [
      "45.29548665818075\n"
     ]
    }
   ],
   "source": [
    "# Importing sklearn module\n",
    "from sklearn.metrics import mean_squared_error\n",
    "\n",
    "# printing the mean squared error\n",
    "print(mean_squared_error(y_test, y_pred))"
   ]
  },
  {
   "cell_type": "code",
   "execution_count": 18,
   "id": "3c81f450",
   "metadata": {},
   "outputs": [
    {
     "name": "stdout",
     "output_type": "stream",
     "text": [
      "0.7254559005470624\n"
     ]
    }
   ],
   "source": [
    "# importing the module\n",
    "from sklearn.metrics import r2_score \n",
    "\n",
    "# applying r square error\n",
    "R_square = r2_score(y_test, y_pred) \n",
    "print(R_square)\n"
   ]
  },
  {
   "cell_type": "code",
   "execution_count": null,
   "id": "dcca9b6d",
   "metadata": {},
   "outputs": [],
   "source": []
  }
 ],
 "metadata": {
  "kernelspec": {
   "display_name": "Python 3 (ipykernel)",
   "language": "python",
   "name": "python3"
  },
  "language_info": {
   "codemirror_mode": {
    "name": "ipython",
    "version": 3
   },
   "file_extension": ".py",
   "mimetype": "text/x-python",
   "name": "python",
   "nbconvert_exporter": "python",
   "pygments_lexer": "ipython3",
   "version": "3.9.12"
  }
 },
 "nbformat": 4,
 "nbformat_minor": 5
}
