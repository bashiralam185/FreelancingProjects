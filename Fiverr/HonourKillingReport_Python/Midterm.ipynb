{
 "cells": [
  {
   "cell_type": "markdown",
   "id": "2c0dd4da",
   "metadata": {},
   "source": [
    "# Description:\n",
    "Honour killings in Pakistan are known locally as karo-kari (Urdu: اری اروک ک .(Pakistan has the\n",
    "highest number of documented and estimated honour killings per capita of any country in the\n",
    "world; about one-fifth of the world's honour killings are performed in Pakistan"
   ]
  },
  {
   "cell_type": "markdown",
   "id": "1345b260",
   "metadata": {},
   "source": [
    "## Question 1\n",
    "The dataset contains reported cases from 2011 to 2019. Your task is to Visualize the\n",
    "data in best possible manner. For example showing a plot of districts with most\n",
    "number of cases. Note that this is one example, you need to be creative. "
   ]
  },
  {
   "cell_type": "markdown",
   "id": "2bf1ee5e",
   "metadata": {},
   "source": [
    "## Answer\n",
    ">**First we converted the file honour-killing-reported-cases-2011-2019(1).xslx into .csv file. We can work with csv files using pandas library.**\n",
    "\n",
    "## Step 1 : Getting the Data"
   ]
  },
  {
   "cell_type": "code",
   "execution_count": 13,
   "id": "ebff1652",
   "metadata": {},
   "outputs": [
    {
     "data": {
      "text/html": [
       "<div>\n",
       "<style scoped>\n",
       "    .dataframe tbody tr th:only-of-type {\n",
       "        vertical-align: middle;\n",
       "    }\n",
       "\n",
       "    .dataframe tbody tr th {\n",
       "        vertical-align: top;\n",
       "    }\n",
       "\n",
       "    .dataframe thead th {\n",
       "        text-align: right;\n",
       "    }\n",
       "</style>\n",
       "<table border=\"1\" class=\"dataframe\">\n",
       "  <thead>\n",
       "    <tr style=\"text-align: right;\">\n",
       "      <th></th>\n",
       "      <th>Districts</th>\n",
       "      <th>2011</th>\n",
       "      <th>2012</th>\n",
       "      <th>2013</th>\n",
       "      <th>2014</th>\n",
       "      <th>2015</th>\n",
       "      <th>2016</th>\n",
       "      <th>2017</th>\n",
       "      <th>2018</th>\n",
       "      <th>2019</th>\n",
       "    </tr>\n",
       "  </thead>\n",
       "  <tbody>\n",
       "    <tr>\n",
       "      <th>0</th>\n",
       "      <td>Lahore</td>\n",
       "      <td>10</td>\n",
       "      <td>15</td>\n",
       "      <td>11</td>\n",
       "      <td>24</td>\n",
       "      <td>13</td>\n",
       "      <td>7</td>\n",
       "      <td>9</td>\n",
       "      <td>10</td>\n",
       "      <td>12</td>\n",
       "    </tr>\n",
       "    <tr>\n",
       "      <th>1</th>\n",
       "      <td>Sheikhupura</td>\n",
       "      <td>14</td>\n",
       "      <td>13</td>\n",
       "      <td>5</td>\n",
       "      <td>17</td>\n",
       "      <td>11</td>\n",
       "      <td>11</td>\n",
       "      <td>9</td>\n",
       "      <td>10</td>\n",
       "      <td>5</td>\n",
       "    </tr>\n",
       "    <tr>\n",
       "      <th>2</th>\n",
       "      <td>Nankana Sahib</td>\n",
       "      <td>13</td>\n",
       "      <td>10</td>\n",
       "      <td>10</td>\n",
       "      <td>15</td>\n",
       "      <td>14</td>\n",
       "      <td>0</td>\n",
       "      <td>2</td>\n",
       "      <td>1</td>\n",
       "      <td>7</td>\n",
       "    </tr>\n",
       "    <tr>\n",
       "      <th>3</th>\n",
       "      <td>Kasur</td>\n",
       "      <td>10</td>\n",
       "      <td>13</td>\n",
       "      <td>10</td>\n",
       "      <td>10</td>\n",
       "      <td>13</td>\n",
       "      <td>13</td>\n",
       "      <td>8</td>\n",
       "      <td>7</td>\n",
       "      <td>6</td>\n",
       "    </tr>\n",
       "    <tr>\n",
       "      <th>4</th>\n",
       "      <td>Region Total</td>\n",
       "      <td>37</td>\n",
       "      <td>36</td>\n",
       "      <td>25</td>\n",
       "      <td>42</td>\n",
       "      <td>38</td>\n",
       "      <td>24</td>\n",
       "      <td>19</td>\n",
       "      <td>18</td>\n",
       "      <td>18</td>\n",
       "    </tr>\n",
       "  </tbody>\n",
       "</table>\n",
       "</div>"
      ],
      "text/plain": [
       "       Districts  2011  2012  2013  2014  2015  2016  2017  2018  2019\n",
       "0         Lahore    10    15    11    24    13     7     9    10    12\n",
       "1    Sheikhupura    14    13     5    17    11    11     9    10     5\n",
       "2  Nankana Sahib    13    10    10    15    14     0     2     1     7\n",
       "3          Kasur    10    13    10    10    13    13     8     7     6\n",
       "4   Region Total    37    36    25    42    38    24    19    18    18"
      ]
     },
     "execution_count": 13,
     "metadata": {},
     "output_type": "execute_result"
    }
   ],
   "source": [
    "\n",
    "import pandas as pd\n",
    "\n",
    "df=pd.read_csv(\"honour-killing-reported-cases-2011-2019(1).csv\")\n",
    "\n",
    "# Reading the csv File => Making sure we got the data\n",
    "df.head()\n"
   ]
  },
  {
   "cell_type": "markdown",
   "id": "544ff1a0",
   "metadata": {},
   "source": [
    "## Step 2: Exploring the data\n"
   ]
  },
  {
   "cell_type": "code",
   "execution_count": 14,
   "id": "a893fd48",
   "metadata": {},
   "outputs": [
    {
     "name": "stdout",
     "output_type": "stream",
     "text": [
      "Districts    object\n",
      "2011          int64\n",
      "2012          int64\n",
      "2013          int64\n",
      "2014          int64\n",
      "2015          int64\n",
      "2016          int64\n",
      "2017          int64\n",
      "2018          int64\n",
      "2019          int64\n",
      "dtype: object\n",
      "<class 'pandas.core.frame.DataFrame'>\n",
      "RangeIndex: 46 entries, 0 to 45\n",
      "Data columns (total 10 columns):\n",
      " #   Column     Non-Null Count  Dtype \n",
      "---  ------     --------------  ----- \n",
      " 0   Districts  46 non-null     object\n",
      " 1   2011       46 non-null     int64 \n",
      " 2   2012       46 non-null     int64 \n",
      " 3   2013       46 non-null     int64 \n",
      " 4   2014       46 non-null     int64 \n",
      " 5   2015       46 non-null     int64 \n",
      " 6   2016       46 non-null     int64 \n",
      " 7   2017       46 non-null     int64 \n",
      " 8   2018       46 non-null     int64 \n",
      " 9   2019       46 non-null     int64 \n",
      "dtypes: int64(9), object(1)\n",
      "memory usage: 3.7+ KB\n"
     ]
    },
    {
     "data": {
      "text/html": [
       "<div>\n",
       "<style scoped>\n",
       "    .dataframe tbody tr th:only-of-type {\n",
       "        vertical-align: middle;\n",
       "    }\n",
       "\n",
       "    .dataframe tbody tr th {\n",
       "        vertical-align: top;\n",
       "    }\n",
       "\n",
       "    .dataframe thead th {\n",
       "        text-align: right;\n",
       "    }\n",
       "</style>\n",
       "<table border=\"1\" class=\"dataframe\">\n",
       "  <thead>\n",
       "    <tr style=\"text-align: right;\">\n",
       "      <th></th>\n",
       "      <th>2011</th>\n",
       "      <th>2012</th>\n",
       "      <th>2013</th>\n",
       "      <th>2014</th>\n",
       "      <th>2015</th>\n",
       "      <th>2016</th>\n",
       "      <th>2017</th>\n",
       "      <th>2018</th>\n",
       "      <th>2019</th>\n",
       "    </tr>\n",
       "  </thead>\n",
       "  <tbody>\n",
       "    <tr>\n",
       "      <th>count</th>\n",
       "      <td>46.000000</td>\n",
       "      <td>46.000000</td>\n",
       "      <td>46.000000</td>\n",
       "      <td>46.000000</td>\n",
       "      <td>46.000000</td>\n",
       "      <td>46.000000</td>\n",
       "      <td>46.000000</td>\n",
       "      <td>46.000000</td>\n",
       "      <td>46.000000</td>\n",
       "    </tr>\n",
       "    <tr>\n",
       "      <th>mean</th>\n",
       "      <td>23.521739</td>\n",
       "      <td>23.543478</td>\n",
       "      <td>25.065217</td>\n",
       "      <td>25.826087</td>\n",
       "      <td>21.108696</td>\n",
       "      <td>16.021739</td>\n",
       "      <td>11.608696</td>\n",
       "      <td>15.695652</td>\n",
       "      <td>12.586957</td>\n",
       "    </tr>\n",
       "    <tr>\n",
       "      <th>std</th>\n",
       "      <td>53.626999</td>\n",
       "      <td>53.757359</td>\n",
       "      <td>57.448490</td>\n",
       "      <td>59.438971</td>\n",
       "      <td>48.782615</td>\n",
       "      <td>36.895341</td>\n",
       "      <td>26.767707</td>\n",
       "      <td>35.767067</td>\n",
       "      <td>29.178817</td>\n",
       "    </tr>\n",
       "    <tr>\n",
       "      <th>min</th>\n",
       "      <td>1.000000</td>\n",
       "      <td>0.000000</td>\n",
       "      <td>1.000000</td>\n",
       "      <td>1.000000</td>\n",
       "      <td>1.000000</td>\n",
       "      <td>0.000000</td>\n",
       "      <td>0.000000</td>\n",
       "      <td>0.000000</td>\n",
       "      <td>0.000000</td>\n",
       "    </tr>\n",
       "    <tr>\n",
       "      <th>25%</th>\n",
       "      <td>5.000000</td>\n",
       "      <td>7.000000</td>\n",
       "      <td>6.250000</td>\n",
       "      <td>6.250000</td>\n",
       "      <td>4.000000</td>\n",
       "      <td>3.250000</td>\n",
       "      <td>2.000000</td>\n",
       "      <td>4.000000</td>\n",
       "      <td>3.000000</td>\n",
       "    </tr>\n",
       "    <tr>\n",
       "      <th>50%</th>\n",
       "      <td>11.000000</td>\n",
       "      <td>11.000000</td>\n",
       "      <td>10.500000</td>\n",
       "      <td>12.000000</td>\n",
       "      <td>9.000000</td>\n",
       "      <td>7.500000</td>\n",
       "      <td>6.500000</td>\n",
       "      <td>8.000000</td>\n",
       "      <td>6.000000</td>\n",
       "    </tr>\n",
       "    <tr>\n",
       "      <th>75%</th>\n",
       "      <td>20.750000</td>\n",
       "      <td>19.000000</td>\n",
       "      <td>25.750000</td>\n",
       "      <td>24.000000</td>\n",
       "      <td>18.750000</td>\n",
       "      <td>13.750000</td>\n",
       "      <td>11.750000</td>\n",
       "      <td>14.000000</td>\n",
       "      <td>10.750000</td>\n",
       "    </tr>\n",
       "    <tr>\n",
       "      <th>max</th>\n",
       "      <td>364.000000</td>\n",
       "      <td>366.000000</td>\n",
       "      <td>388.000000</td>\n",
       "      <td>404.000000</td>\n",
       "      <td>328.000000</td>\n",
       "      <td>248.000000</td>\n",
       "      <td>181.000000</td>\n",
       "      <td>244.000000</td>\n",
       "      <td>197.000000</td>\n",
       "    </tr>\n",
       "  </tbody>\n",
       "</table>\n",
       "</div>"
      ],
      "text/plain": [
       "             2011        2012        2013        2014        2015        2016  \\\n",
       "count   46.000000   46.000000   46.000000   46.000000   46.000000   46.000000   \n",
       "mean    23.521739   23.543478   25.065217   25.826087   21.108696   16.021739   \n",
       "std     53.626999   53.757359   57.448490   59.438971   48.782615   36.895341   \n",
       "min      1.000000    0.000000    1.000000    1.000000    1.000000    0.000000   \n",
       "25%      5.000000    7.000000    6.250000    6.250000    4.000000    3.250000   \n",
       "50%     11.000000   11.000000   10.500000   12.000000    9.000000    7.500000   \n",
       "75%     20.750000   19.000000   25.750000   24.000000   18.750000   13.750000   \n",
       "max    364.000000  366.000000  388.000000  404.000000  328.000000  248.000000   \n",
       "\n",
       "             2017        2018        2019  \n",
       "count   46.000000   46.000000   46.000000  \n",
       "mean    11.608696   15.695652   12.586957  \n",
       "std     26.767707   35.767067   29.178817  \n",
       "min      0.000000    0.000000    0.000000  \n",
       "25%      2.000000    4.000000    3.000000  \n",
       "50%      6.500000    8.000000    6.000000  \n",
       "75%     11.750000   14.000000   10.750000  \n",
       "max    181.000000  244.000000  197.000000  "
      ]
     },
     "execution_count": 14,
     "metadata": {},
     "output_type": "execute_result"
    }
   ],
   "source": [
    "# Checking the types of data\n",
    "print(df.dtypes)\n",
    "df.info()\n",
    "df.describe()"
   ]
  },
  {
   "cell_type": "markdown",
   "id": "a4e79044",
   "metadata": {},
   "source": [
    "***Hence, our dataset has int values..***"
   ]
  },
  {
   "cell_type": "markdown",
   "id": "1fbd5ce6",
   "metadata": {},
   "source": [
    "## Step 3: Visualizing our data\n",
    "\n",
    "1. Matplot library is used to make plots from dataset. \n",
    "so, first we will import the required library.\n",
    "2. Seaborn provides a high-level interface for drawing attractive and informative statistical graphics. So, we will also import the required library."
   ]
  },
  {
   "cell_type": "code",
   "execution_count": 15,
   "id": "7e668f8c",
   "metadata": {},
   "outputs": [],
   "source": [
    "import matplotlib.pyplot as plt\n",
    "import seaborn as sns"
   ]
  },
  {
   "cell_type": "markdown",
   "id": "8ab6d506",
   "metadata": {},
   "source": [
    "## Bar chart"
   ]
  },
  {
   "cell_type": "code",
   "execution_count": 16,
   "id": "ac569775",
   "metadata": {},
   "outputs": [
    {
     "data": {
      "text/plain": [
       "<BarContainer object of 46 artists>"
      ]
     },
     "execution_count": 16,
     "metadata": {},
     "output_type": "execute_result"
    },
    {
     "data": {
      "image/png": "[encoded data removed]",
      "text/plain": [
       "<Figure size 1200x600 with 1 Axes>"
      ]
     },
     "metadata": {},
     "output_type": "display_data"
    }
   ],
   "source": [
    "fig=plt.figure(figsize=(12,6), dpi= 100, facecolor='w', edgecolor='k')\n",
    "plt.bar(df[\"Districts\"],height=df['2014'],align=\"center\")"
   ]
  },
  {
   "cell_type": "markdown",
   "id": "d5514ac2",
   "metadata": {},
   "source": [
    "## Trending Plot"
   ]
  },
  {
   "cell_type": "code",
   "execution_count": 18,
   "id": "3bb9d59d",
   "metadata": {},
   "outputs": [
    {
     "data": {
      "text/plain": [
       "<AxesSubplot:>"
      ]
     },
     "execution_count": 18,
     "metadata": {},
     "output_type": "execute_result"
    },
    {
     "data": {
      "image/png": "[encoded data removed]",
      "text/plain": [
       "<Figure size 432x288 with 1 Axes>"
      ]
     },
     "metadata": {
      "needs_background": "light"
     },
     "output_type": "display_data"
    }
   ],
   "source": [
    "df.plot()\n"
   ]
  },
  {
   "cell_type": "markdown",
   "id": "5cbe1930",
   "metadata": {},
   "source": [
    "## Frequency graph"
   ]
  },
  {
   "cell_type": "code",
   "execution_count": 41,
   "id": "f135703e",
   "metadata": {},
   "outputs": [
    {
     "data": {
      "image/png": "[encoded data removed]",
      "text/plain": [
       "<Figure size 432x288 with 1 Axes>"
      ]
     },
     "metadata": {
      "needs_background": "light"
     },
     "output_type": "display_data"
    }
   ],
   "source": [
    "import matplotlib.pyplot as plt\n",
    "need_values=total_values[1:]\n",
    "\n",
    "# An \"interface\" to matplotlib.axes.Axes.hist() method\n",
    "\n",
    "n, bins, patches = plt.hist(x=need_values)\n",
    "plt.grid(axis='y', alpha=0.75)\n",
    "plt.xlabel('kills')\n",
    "plt.ylabel('Frequency')\n",
    "plt.title('My Very Own Histogram')\n",
    "maxfreq = n.max()"
   ]
  },
  {
   "cell_type": "markdown",
   "id": "2448a250",
   "metadata": {},
   "source": [
    "# More Exploration of the data"
   ]
  },
  {
   "cell_type": "code",
   "execution_count": 19,
   "id": "c3f46cb9",
   "metadata": {},
   "outputs": [
    {
     "data": {
      "text/plain": [
       "Districts    Vehari\n",
       "2011            364\n",
       "2012            366\n",
       "2013            388\n",
       "2014            404\n",
       "2015            328\n",
       "2016            248\n",
       "2017            181\n",
       "2018            244\n",
       "2019            197\n",
       "dtype: object"
      ]
     },
     "execution_count": 19,
     "metadata": {},
     "output_type": "execute_result"
    }
   ],
   "source": [
    "total_values = df.max()\n",
    "total_values"
   ]
  },
  {
   "cell_type": "markdown",
   "id": "bb9c174b",
   "metadata": {},
   "source": [
    "## Plots to see the increase in honour killings over 9 years\n"
   ]
  },
  {
   "cell_type": "code",
   "execution_count": 20,
   "id": "07d807dc",
   "metadata": {},
   "outputs": [
    {
     "data": {
      "text/plain": [
       "Text(0.5, 1.0, 'Trend of Honor killing from 2011-19')"
      ]
     },
     "execution_count": 20,
     "metadata": {},
     "output_type": "execute_result"
    },
    {
     "data": {
      "image/png": "[encoded data removed]",
      "text/plain": [
       "<Figure size 432x288 with 1 Axes>"
      ]
     },
     "metadata": {
      "needs_background": "light"
     },
     "output_type": "display_data"
    }
   ],
   "source": [
    "need_values=total_values[1:]\n",
    "plt.plot(need_values)\n",
    "plt.xlabel(\"Years\")\n",
    "plt.ylabel(\"Number of Cases\")\n",
    "plt.title(\"Trend of Honor killing from 2011-19\")\n"
   ]
  },
  {
   "cell_type": "code",
   "execution_count": 21,
   "id": "196f3657",
   "metadata": {},
   "outputs": [
    {
     "name": "stdout",
     "output_type": "stream",
     "text": [
      "Maximum Honor killings = 404, during the year 2014\n"
     ]
    }
   ],
   "source": [
    "# Maximum kills during 2011-19 and the corresponding Year\n",
    "dict_of_values=dict(need_values)\n",
    "years=list(dict_of_values.keys())\n",
    "# print(years)\n",
    "values=list(dict_of_values.values())\n",
    "# print(values)\n",
    "# print(list_of_values)\n",
    "print(f\"Maximum Honor killings = {need_values.max()}, during the year {years[values.index(404)]}\")\n"
   ]
  },
  {
   "cell_type": "markdown",
   "id": "b17d3024",
   "metadata": {},
   "source": [
    "## Overal Data Grapgh"
   ]
  },
  {
   "cell_type": "markdown",
   "id": "865c007e",
   "metadata": {},
   "source": [
    "\n",
    "![](j.png)"
   ]
  },
  {
   "cell_type": "markdown",
   "id": "b0b5bb02",
   "metadata": {},
   "source": [
    "## Creating different Models and thier Visualization"
   ]
  },
  {
   "cell_type": "code",
   "execution_count": 22,
   "id": "4899f51f",
   "metadata": {},
   "outputs": [],
   "source": [
    "# import sys\n",
    "# !{sys.executable} -m pip install statsmodel\n",
    "\n",
    "# imports\n",
    "import pandas as pd\n",
    "import seaborn as sns\n",
    "# import statsmodels.formula.api as smf\n",
    "from sklearn.linear_model import LinearRegression\n",
    "from sklearn import metrics\n",
    "import numpy as np\n",
    "\n",
    "# allow plots to appear directly in the notebook\n",
    "%matplotlib inline\n"
   ]
  },
  {
   "cell_type": "code",
   "execution_count": 23,
   "id": "486ebbcc",
   "metadata": {},
   "outputs": [
    {
     "data": {
      "text/html": [
       "<div>\n",
       "<style scoped>\n",
       "    .dataframe tbody tr th:only-of-type {\n",
       "        vertical-align: middle;\n",
       "    }\n",
       "\n",
       "    .dataframe tbody tr th {\n",
       "        vertical-align: top;\n",
       "    }\n",
       "\n",
       "    .dataframe thead th {\n",
       "        text-align: right;\n",
       "    }\n",
       "</style>\n",
       "<table border=\"1\" class=\"dataframe\">\n",
       "  <thead>\n",
       "    <tr style=\"text-align: right;\">\n",
       "      <th></th>\n",
       "      <th>2012</th>\n",
       "      <th>2013</th>\n",
       "      <th>2014</th>\n",
       "      <th>2015</th>\n",
       "      <th>2016</th>\n",
       "      <th>2017</th>\n",
       "      <th>2018</th>\n",
       "      <th>2019</th>\n",
       "      <th>2020</th>\n",
       "      <th>Total kills</th>\n",
       "    </tr>\n",
       "    <tr>\n",
       "      <th>2011</th>\n",
       "      <th></th>\n",
       "      <th></th>\n",
       "      <th></th>\n",
       "      <th></th>\n",
       "      <th></th>\n",
       "      <th></th>\n",
       "      <th></th>\n",
       "      <th></th>\n",
       "      <th></th>\n",
       "      <th></th>\n",
       "    </tr>\n",
       "  </thead>\n",
       "  <tbody>\n",
       "    <tr>\n",
       "      <th>10</th>\n",
       "      <td>15</td>\n",
       "      <td>11</td>\n",
       "      <td>24</td>\n",
       "      <td>13</td>\n",
       "      <td>7</td>\n",
       "      <td>9</td>\n",
       "      <td>10</td>\n",
       "      <td>12</td>\n",
       "      <td>3</td>\n",
       "      <td>114</td>\n",
       "    </tr>\n",
       "    <tr>\n",
       "      <th>14</th>\n",
       "      <td>13</td>\n",
       "      <td>5</td>\n",
       "      <td>17</td>\n",
       "      <td>11</td>\n",
       "      <td>11</td>\n",
       "      <td>9</td>\n",
       "      <td>10</td>\n",
       "      <td>5</td>\n",
       "      <td>8</td>\n",
       "      <td>103</td>\n",
       "    </tr>\n",
       "    <tr>\n",
       "      <th>13</th>\n",
       "      <td>10</td>\n",
       "      <td>10</td>\n",
       "      <td>15</td>\n",
       "      <td>14</td>\n",
       "      <td>0</td>\n",
       "      <td>2</td>\n",
       "      <td>1</td>\n",
       "      <td>7</td>\n",
       "      <td>8</td>\n",
       "      <td>80</td>\n",
       "    </tr>\n",
       "    <tr>\n",
       "      <th>10</th>\n",
       "      <td>13</td>\n",
       "      <td>10</td>\n",
       "      <td>10</td>\n",
       "      <td>13</td>\n",
       "      <td>13</td>\n",
       "      <td>8</td>\n",
       "      <td>7</td>\n",
       "      <td>6</td>\n",
       "      <td>5</td>\n",
       "      <td>95</td>\n",
       "    </tr>\n",
       "    <tr>\n",
       "      <th>11</th>\n",
       "      <td>9</td>\n",
       "      <td>7</td>\n",
       "      <td>7</td>\n",
       "      <td>9</td>\n",
       "      <td>8</td>\n",
       "      <td>5</td>\n",
       "      <td>15</td>\n",
       "      <td>13</td>\n",
       "      <td>13</td>\n",
       "      <td>97</td>\n",
       "    </tr>\n",
       "  </tbody>\n",
       "</table>\n",
       "</div>"
      ],
      "text/plain": [
       "      2012  2013  2014  2015  2016  2017  2018  2019  2020  Total kills\n",
       "2011                                                                   \n",
       "10      15    11    24    13     7     9    10    12     3          114\n",
       "14      13     5    17    11    11     9    10     5     8          103\n",
       "13      10    10    15    14     0     2     1     7     8           80\n",
       "10      13    10    10    13    13     8     7     6     5           95\n",
       "11       9     7     7     9     8     5    15    13    13           97"
      ]
     },
     "execution_count": 23,
     "metadata": {},
     "output_type": "execute_result"
    }
   ],
   "source": [
    "data=pd.read_csv(\"CleanData.csv\",index_col=0)\n",
    "data.head()"
   ]
  },
  {
   "cell_type": "code",
   "execution_count": 24,
   "id": "ad2a84c3",
   "metadata": {},
   "outputs": [
    {
     "data": {
      "text/plain": [
       "(36, 10)"
      ]
     },
     "execution_count": 24,
     "metadata": {},
     "output_type": "execute_result"
    }
   ],
   "source": [
    "data.shape\n"
   ]
  },
  {
   "cell_type": "code",
   "execution_count": 25,
   "id": "58a1a888",
   "metadata": {},
   "outputs": [
    {
     "name": "stderr",
     "output_type": "stream",
     "text": [
      "/home/jawad/.local/lib/python3.8/site-packages/seaborn/axisgrid.py:1969: UserWarning: The `size` parameter has been renamed to `height`; please update your code.\n",
      "  warnings.warn(msg, UserWarning)\n"
     ]
    },
    {
     "data": {
      "text/plain": [
       "<seaborn.axisgrid.PairGrid at 0x7f1fb3660400>"
      ]
     },
     "execution_count": 25,
     "metadata": {},
     "output_type": "execute_result"
    },
    {
     "data": {
      "image/png": "[encoded data removed]",
      "text/plain": [
       "<Figure size 1036.8x288 with 4 Axes>"
      ]
     },
     "metadata": {
      "needs_background": "light"
     },
     "output_type": "display_data"
    }
   ],
   "source": [
    "sns.pairplot(data, x_vars=[\"2017\",\"2018\",\"2019\",\"2020\"], y_vars='Total kills', size=4, aspect=0.9)"
   ]
  },
  {
   "cell_type": "markdown",
   "id": "ebe90287",
   "metadata": {},
   "source": [
    "## Question 2"
   ]
  },
  {
   "cell_type": "markdown",
   "id": "a828713f",
   "metadata": {},
   "source": [
    "> Get reported cases from 2019 to 2021 (from any source, this can be only 10 rows),\n",
    "handle it as a regression problem and use the model built on previous data. The task\n",
    "should be to predict the district wise total number of cases. Compare your machine\n",
    "learning models performance on unseen data."
   ]
  },
  {
   "cell_type": "markdown",
   "id": "494aa91a",
   "metadata": {},
   "source": [
    "# Step 1:  Obtaining Dataset\n",
    "We use data from [Pujab police data from 2011-2020](https://punjabpolice.gov.pk/honour-killings).\n",
    "<br>***There was no data for this Year***"
   ]
  },
  {
   "cell_type": "markdown",
   "id": "cd93bd53",
   "metadata": {},
   "source": [
    "## Step 2: Data Processing for Multiple Regression Algorithm\n",
    "We pre-processed the data and formed the file CleanData.csv which we will use for trainig our Multiregression algorithm and test its performance in the following section.<br>\n",
    "> **We are using MultiRegression Algorithm because the data is for several years i.e 2011-2020.**"
   ]
  },
  {
   "cell_type": "code",
   "execution_count": 26,
   "id": "a2890535",
   "metadata": {},
   "outputs": [
    {
     "name": "stdout",
     "output_type": "stream",
     "text": [
      "[ 80. 112.  26. 107.  97.  43.  74.  20.  23. 131.  94.]\n",
      "\n",
      "Intercept:  -1.4210854715202004e-14\n"
     ]
    }
   ],
   "source": [
    "#import the libraries\n",
    "import numpy as py\n",
    "import matplotlib.pyplot as plt\n",
    "import pandas as pd\n",
    "\n",
    "#Import the data set from Desktop\n",
    "dataset = pd.read_csv('CleanData.csv')\n",
    "dataset.head()\n",
    "\n",
    "X=dataset.iloc[:,:-1].values\n",
    "y=dataset.iloc[:,10].values\n",
    "\n",
    "#Training and Testing Data (divide the data into two part)\n",
    "from sklearn.model_selection import train_test_split\n",
    "X_train, X_test, y_train, y_test =train_test_split(X,y,test_size=0.30, random_state=40)\n",
    "# We are using 30 % for testing and 70% for training our Algo.\n",
    "\n",
    "#regression\n",
    "from sklearn.linear_model import LinearRegression\n",
    "reg = LinearRegression()\n",
    "reg.fit(X_train,y_train)\n",
    "\n",
    "#for predict the test values\n",
    "y_prdict=reg.predict(X_test)\n",
    "print(y_prdict);\n",
    "print('\\nIntercept: ',reg.intercept_)"
   ]
  },
  {
   "cell_type": "markdown",
   "id": "045d98df",
   "metadata": {},
   "source": [
    "## Step 3: Algorithm Evluation\n",
    " There are many ways to evaluate model performance but in classical statistics, the performance of linear regression models is evaluated with R² — which gives a value between 0 and 1, and the higher the R² the better the model."
   ]
  },
  {
   "cell_type": "code",
   "execution_count": 27,
   "id": "bfb09b78",
   "metadata": {},
   "outputs": [
    {
     "name": "stdout",
     "output_type": "stream",
     "text": [
      "1.0\n",
      "mean_squared_error is 2.5514943693203597e-14\n",
      "root_mean_squared_error is 1.5973397789200517e-07\n"
     ]
    }
   ],
   "source": [
    "from sklearn.metrics import r2_score\n",
    "from sklearn.metrics import *\n",
    "import numpy as np\n",
    "score=r2_score(y_test,y_prdict)\n",
    "print(score)\n",
    "\n",
    "# Our Algorithm gives 100% accurate results\n",
    "# Evaluating the model using MAE Evaluation Metric\n",
    "print(f\"mean_squared_error is {mean_absolute_error(y_test, y_prdict)}\")\n",
    "# Evaluating the model using RMSE Evaluation Metric\n",
    "print(f\"root_mean_squared_error is {np.sqrt(mean_absolute_error(y_test, y_prdict))}\")"
   ]
  },
  {
   "cell_type": "markdown",
   "id": "8fe745e8",
   "metadata": {},
   "source": [
    "# The End"
   ]
  },
  {
   "cell_type": "code",
   "execution_count": null,
   "id": "5a88947f",
   "metadata": {},
   "outputs": [],
   "source": []
  }
 ],
 "metadata": {
  "kernelspec": {
   "display_name": "Python 3",
   "language": "python",
   "name": "python3"
  },
  "language_info": {
   "codemirror_mode": {
    "name": "ipython",
    "version": 3
   },
   "file_extension": ".py",
   "mimetype": "text/x-python",
   "name": "python",
   "nbconvert_exporter": "python",
   "pygments_lexer": "ipython3",
   "version": "3.8.5"
  }
 },
 "nbformat": 4,
 "nbformat_minor": 5
}
